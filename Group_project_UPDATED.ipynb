{
 "cells": [
  {
   "cell_type": "markdown",
   "id": "e79ce060-7b0d-4b01-bf53-d4ba360d86f6",
   "metadata": {},
   "source": [
    "# DAB111: Group Project - UPDATED\n",
    "\n",
    "## Requirements\n",
    "\n",
    "To successfully complete this project, you need to write Python code to store the data in a database, and then serve that data up via a website. Please see below for further details:\n",
    "\n",
    "**Data Collection**\n",
    "Data can be collected (legally) from anywhere. You may use data that you already have; or from sites that allow you to download the data, for example, [UCI Machine Learning Repository](https://archive.ics.uci.edu/) or [Kaggle Datasets](https://www.kaggle.com/datasets). We can restrict ourselves to data that would fit nicely into a spreadsheet. The content and amount of data are not the main consideration, as long as the data has:\n",
    "- at least 5 variables\n",
    "- two or more data types\n",
    "\n",
    "**Database**\n",
    "After the data has been collected, it should be stored in a SQLite database. The database need only have ONE table. At a minimum, database and table creation and data insertion should be done using the `sqlite3` package. Both SQLite and `sqlite3` come with Python. `Pandas` can be used as an intermediary. \n",
    "\n",
    "**Website**\n",
    "The data (or a small sample) should be presented through a website. This should be done using `flask`. The website:\n",
    " - needs only basic formatting\n",
    " - has an *About* page that provides:\n",
    "     - the source of the data\n",
    "     - definition of each variable\n",
    " - a *Data* page displaying the data, or a sample thereof\n",
    "\n",
    "\n",
    "**Readme.md**\n",
    "This file should present the reader with a basic description of what your code does. \n",
    "\n",
    "**Requirements.txt**\n",
    "This file contains all packages necessary to run your code. This file should allow the user to install all necessary packages via the command: `pip install -r requirements.txt`\n",
    "\n",
    "\n",
    "## Structure\n",
    "- All project related code in a single Github repository\n",
    "- All code in the repository is only FINAL code\n",
    "- The repository structure is\n",
    "    - main folder\n",
    "        - data collection (OPTIONAL: only if needed)\n",
    "        - data processing (OPTIONAL: only if needed)\n",
    "        - database\n",
    "        - website\n",
    "        - Readme.md\n",
    "        - requirements.txt\n",
    "- Each subfolder should be logically organized\n",
    "\n",
    "## Submission\n",
    "\n",
    "Submission consists of uploading a link to the Github repository containing all the code for your project. There should be one submission per group. \n",
    "\n",
    "Example: `https://github.com/markcassar/DAB111_project_Group_8`\n",
    "\n"
   ]
  },
  {
   "cell_type": "markdown",
   "id": "747a4e2c-4fbb-4ab2-a073-bb21b65f1e4f",
   "metadata": {},
   "source": [
    "## Security\n",
    "Using an API is still allowed, just not required. If you choose to use an API, then \n",
    "\n",
    "> please DO NOT include your API Key in your GitHub repository\n",
    "\n",
    "You will be creating a public GitHub repository for your project, which means anyone can access and use your any code or data that is in it. Many API providers will require you to register and create an API Key. When accessing data through the API, you need to authenticate using your API Key before any data will be returned from an API call. \n",
    "\n",
    "To keep you API Key(s) safe, please do the following:\n",
    " - create a `credentials.py` file that stores the value of your key(s) in Python variables\n",
    " - add `credentials.py` to the `.gitignore` file of your repository so GitHub does not automatically track any changes to this file\n",
    " - in your code, you can access your keys via import:\n",
    " \n",
    " ```python\n",
    " import credentials\n",
    " \n",
    " weather_api_key = credentials.weather_api_key\n",
    " ```\n",
    "In this way, anyone accessing your GitHub repository will not be able to access your personal API account."
   ]
  },
  {
   "cell_type": "code",
   "execution_count": null,
   "id": "4f4a094a-cde8-43bc-9677-e131b1e8c2ce",
   "metadata": {},
   "outputs": [],
   "source": []
  }
 ],
 "metadata": {
  "kernelspec": {
   "display_name": "Python 3 (ipykernel)",
   "language": "python",
   "name": "python3"
  },
  "language_info": {
   "codemirror_mode": {
    "name": "ipython",
    "version": 3
   },
   "file_extension": ".py",
   "mimetype": "text/x-python",
   "name": "python",
   "nbconvert_exporter": "python",
   "pygments_lexer": "ipython3",
   "version": "3.11.4"
  }
 },
 "nbformat": 4,
 "nbformat_minor": 5
}
