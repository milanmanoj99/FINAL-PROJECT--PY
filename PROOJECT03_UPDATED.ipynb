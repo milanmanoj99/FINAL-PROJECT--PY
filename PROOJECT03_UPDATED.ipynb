{
 "cells": [
  {
   "cell_type": "code",
   "execution_count": 2,
   "id": "1fee4a6f-30f3-4d01-b2d1-98d0d7a81360",
   "metadata": {},
   "outputs": [
    {
     "name": "stdout",
     "output_type": "stream",
     "text": [
      "Requirement already satisfied: Flask==2.0.1 in c:\\users\\dell\\anaconda3\\lib\\site-packages (from -r requirements.txt (line 1)) (2.0.1)\n",
      "Requirement already satisfied: pandas==2.1.3 in c:\\users\\dell\\anaconda3\\lib\\site-packages (from -r requirements.txt (line 2)) (2.1.3)\n",
      "Requirement already satisfied: Werkzeug>=2.0 in c:\\users\\dell\\anaconda3\\lib\\site-packages (from Flask==2.0.1->-r requirements.txt (line 1)) (2.2.3)\n",
      "Requirement already satisfied: Jinja2>=3.0 in c:\\users\\dell\\anaconda3\\lib\\site-packages (from Flask==2.0.1->-r requirements.txt (line 1)) (3.1.2)\n",
      "Requirement already satisfied: itsdangerous>=2.0 in c:\\users\\dell\\anaconda3\\lib\\site-packages (from Flask==2.0.1->-r requirements.txt (line 1)) (2.0.1)\n",
      "Requirement already satisfied: click>=7.1.2 in c:\\users\\dell\\anaconda3\\lib\\site-packages (from Flask==2.0.1->-r requirements.txt (line 1)) (8.0.4)\n",
      "Requirement already satisfied: numpy<2,>=1.23.2 in c:\\users\\dell\\anaconda3\\lib\\site-packages (from pandas==2.1.3->-r requirements.txt (line 2)) (1.24.3)\n",
      "Requirement already satisfied: python-dateutil>=2.8.2 in c:\\users\\dell\\anaconda3\\lib\\site-packages (from pandas==2.1.3->-r requirements.txt (line 2)) (2.8.2)\n",
      "Requirement already satisfied: pytz>=2020.1 in c:\\users\\dell\\anaconda3\\lib\\site-packages (from pandas==2.1.3->-r requirements.txt (line 2)) (2022.7)\n",
      "Requirement already satisfied: tzdata>=2022.1 in c:\\users\\dell\\anaconda3\\lib\\site-packages (from pandas==2.1.3->-r requirements.txt (line 2)) (2023.3)\n",
      "Requirement already satisfied: colorama in c:\\users\\dell\\anaconda3\\lib\\site-packages (from click>=7.1.2->Flask==2.0.1->-r requirements.txt (line 1)) (0.4.6)\n",
      "Requirement already satisfied: MarkupSafe>=2.0 in c:\\users\\dell\\anaconda3\\lib\\site-packages (from Jinja2>=3.0->Flask==2.0.1->-r requirements.txt (line 1)) (2.1.1)\n",
      "Requirement already satisfied: six>=1.5 in c:\\users\\dell\\anaconda3\\lib\\site-packages (from python-dateutil>=2.8.2->pandas==2.1.3->-r requirements.txt (line 2)) (1.16.0)\n",
      "Note: you may need to restart the kernel to use updated packages.\n"
     ]
    }
   ],
   "source": [
    "pip install -r requirements.txt"
   ]
  },
  {
   "cell_type": "code",
   "execution_count": 1,
   "id": "55adbf5c-ee2c-4df4-9104-9b6557f6b83a",
   "metadata": {
    "tags": []
   },
   "outputs": [],
   "source": [
    "import sqlite3"
   ]
  },
  {
   "cell_type": "code",
   "execution_count": 2,
   "id": "0b3ddf00-07e3-4943-9d2e-28066ea52606",
   "metadata": {
    "tags": []
   },
   "outputs": [],
   "source": [
    "# Create a database connection and cursor object.\n",
    "conn = sqlite3.connect(\"employee_data.db\")\n",
    "cursor = conn.cursor()"
   ]
  },
  {
   "cell_type": "code",
   "execution_count": 3,
   "id": "df261f32-20ed-44ba-8147-ece7f7b75e51",
   "metadata": {
    "tags": []
   },
   "outputs": [
    {
     "data": {
      "text/plain": [
       "<sqlite3.Cursor at 0x237dbc7a040>"
      ]
     },
     "execution_count": 3,
     "metadata": {},
     "output_type": "execute_result"
    }
   ],
   "source": [
    "# table in the database\n",
    "cursor.execute('''\n",
    "    CREATE TABLE IF NOT EXISTS employees (\n",
    "        id INTEGER PRIMARY KEY AUTOINCREMENT,\n",
    "        name TEXT,\n",
    "        age INTEGER,\n",
    "        salary REAL,\n",
    "        is_married BOOLEAN,\n",
    "        address TEXT\n",
    "    )\n",
    "''')\n"
   ]
  },
  {
   "cell_type": "code",
   "execution_count": 4,
   "id": "8e5ae967-d349-408a-a691-e0871dc74742",
   "metadata": {
    "tags": []
   },
   "outputs": [],
   "source": [
    "conn.commit()\n",
    "\n",
    "df = pd.read_csv(\"salary_data.csv\")\n",
    "\n",
    "df.to_sql('employees', conn, if_exists='replace', index=False)\n",
    "conn.commit()\n",
    "\n",
    "conn.close()"
   ]
  },
  {
   "cell_type": "code",
   "execution_count": null,
   "id": "7299518a-77e0-451e-97c7-06b528d2659c",
   "metadata": {},
   "outputs": [],
   "source": []
  }
 ],
 "metadata": {
  "kernelspec": {
   "display_name": "Python 3 (ipykernel)",
   "language": "python",
   "name": "python3"
  },
  "language_info": {
   "codemirror_mode": {
    "name": "ipython",
    "version": 3
   },
   "file_extension": ".py",
   "mimetype": "text/x-python",
   "name": "python",
   "nbconvert_exporter": "python",
   "pygments_lexer": "ipython3",
   "version": "3.11.4"
  }
 },
 "nbformat": 4,
 "nbformat_minor": 5
}
